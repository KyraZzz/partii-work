{
  "nbformat": 4,
  "nbformat_minor": 0,
  "metadata": {
    "colab": {
      "provenance": [],
      "authorship_tag": "ABX9TyMfB/Xa1Wkc6wH76edcOvJB",
      "include_colab_link": true
    },
    "kernelspec": {
      "name": "python3",
      "display_name": "Python 3"
    },
    "language_info": {
      "name": "python"
    }
  },
  "cells": [
    {
      "cell_type": "markdown",
      "metadata": {
        "id": "view-in-github",
        "colab_type": "text"
      },
      "source": [
        "<a href=\"https://colab.research.google.com/github/KyraZzz/partii-work/blob/main/bioinfo.ipynb\" target=\"_parent\"><img src=\"https://colab.research.google.com/assets/colab-badge.svg\" alt=\"Open In Colab\"/></a>"
      ]
    },
    {
      "cell_type": "code",
      "execution_count": 6,
      "metadata": {
        "id": "bEpJO6R2-B0f"
      },
      "outputs": [],
      "source": [
        "def print_global_align(seq1,seq2,op):\n",
        "  m = len(seq1); i = m\n",
        "  n = len(seq2); j = n\n",
        "  align1 = \"\"\n",
        "  align2 = \"\"\n",
        "\n",
        "  while i > 0 and j > 0:\n",
        "    if op[i][j] == 1:\n",
        "      align1 += seq1[i-1]\n",
        "      align2 += seq2[j-1]\n",
        "      i -= 1; j -= 1\n",
        "    elif op[i][j] == 2:\n",
        "      align1 += seq1[i-1]\n",
        "      align2 += \"-\"\n",
        "      i -= 1 \n",
        "    elif op[i][j] == 3:\n",
        "      align1 += \"-\"\n",
        "      align2 += seq2[j-1]\n",
        "      j -= 1\n",
        "  \n",
        "  while i > 0:\n",
        "    align1 += seq1[i-1]\n",
        "    align2 += \"-\"\n",
        "    i -= 1\n",
        "  while j > 0:\n",
        "    align1 += \"-\"\n",
        "    align2 += seq2[j-1]\n",
        "    j -= 1\n",
        "  \n",
        "  print(align1[::-1] + \"\\n\" + align2[::-1])\n",
        "\n",
        "def needleman_wunsch(seq1,seq2,match_award=1,mismatch_pen=-1,indel_pen=-1):\n",
        "  m = len(seq1)\n",
        "  n = len(seq2)\n",
        "  dp = [[0 for _ in range(n+1)] for _ in range(m+1)]\n",
        "  op = [[0 for _ in range(n+1)] for _ in range(m+1)] # 1: diagonal, 2: right(insert), 3: down(delete)\n",
        "\n",
        "  # fill in score matrix\n",
        "  for i in range(1,m+1):\n",
        "    dp[i][0] = indel_pen * i\n",
        "  for j in range(1,n+1):\n",
        "    dp[0][j] = indel_pen * j\n",
        "  \n",
        "  for i in range(1,m+1):\n",
        "    for j in range(1,n+1):\n",
        "      insert = dp[i-1][j] + indel_pen\n",
        "      delete = dp[i][j-1] + indel_pen\n",
        "      match_mismatch = dp[i-1][j-1] + match_award if seq1[i-1] == seq2[j-1] else dp[i-1][j-1] + mismatch_pen\n",
        "      dp[i][j] = max(insert, delete, match_mismatch)\n",
        "      if insert == dp[i][j]:\n",
        "        op[i][j] = 2\n",
        "      elif delete == dp[i][j]:\n",
        "        op[i][j] = 3\n",
        "      else:\n",
        "        op[i][j] = 1\n",
        "    \n",
        "  # print optimal global alignment\n",
        "  print_global_align(seq1,seq2,op)\n",
        "  return dp, op"
      ]
    },
    {
      "cell_type": "code",
      "source": [
        "seq1 = \"ATTACA\"\n",
        "seq2 = \"ATGCT\"\n",
        "needleman_wunsch(seq1,seq2)"
      ],
      "metadata": {
        "colab": {
          "base_uri": "https://localhost:8080/"
        },
        "id": "J9TTCw8dEJr2",
        "outputId": "afaf2798-11b6-4b60-ddf5-74d135c168f8"
      },
      "execution_count": 7,
      "outputs": [
        {
          "output_type": "stream",
          "name": "stdout",
          "text": [
            "ATTACA\n",
            "ATG-CT\n"
          ]
        },
        {
          "output_type": "execute_result",
          "data": {
            "text/plain": [
              "([[0, -1, -2, -3, -4, -5],\n",
              "  [-1, 1, 0, -1, -2, -3],\n",
              "  [-2, 0, 2, 1, 0, -1],\n",
              "  [-3, -1, 1, 1, 0, 1],\n",
              "  [-4, -2, 0, 0, 0, 0],\n",
              "  [-5, -3, -1, -1, 1, 0],\n",
              "  [-6, -4, -2, -2, 0, 0]],\n",
              " [[0, 0, 0, 0, 0, 0],\n",
              "  [0, 1, 3, 3, 3, 3],\n",
              "  [0, 2, 1, 3, 3, 3],\n",
              "  [0, 2, 2, 1, 3, 1],\n",
              "  [0, 2, 2, 2, 1, 2],\n",
              "  [0, 2, 2, 2, 1, 3],\n",
              "  [0, 2, 2, 2, 2, 1]])"
            ]
          },
          "metadata": {},
          "execution_count": 7
        }
      ]
    },
    {
      "cell_type": "code",
      "source": [],
      "metadata": {
        "id": "yBFpgl1jEZxE"
      },
      "execution_count": null,
      "outputs": []
    }
  ]
}