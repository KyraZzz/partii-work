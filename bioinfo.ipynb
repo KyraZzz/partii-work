{
  "nbformat": 4,
  "nbformat_minor": 0,
  "metadata": {
    "colab": {
      "provenance": [],
      "authorship_tag": "ABX9TyOol2M0dyrF5OzcZfBQaxrM",
      "include_colab_link": true
    },
    "kernelspec": {
      "name": "python3",
      "display_name": "Python 3"
    },
    "language_info": {
      "name": "python"
    }
  },
  "cells": [
    {
      "cell_type": "markdown",
      "metadata": {
        "id": "view-in-github",
        "colab_type": "text"
      },
      "source": [
        "<a href=\"https://colab.research.google.com/github/KyraZzz/partii-work/blob/main/bioinfo.ipynb\" target=\"_parent\"><img src=\"https://colab.research.google.com/assets/colab-badge.svg\" alt=\"Open In Colab\"/></a>"
      ]
    },
    {
      "cell_type": "markdown",
      "source": [
        "# Global alignment"
      ],
      "metadata": {
        "id": "Q06yA-cC1sjK"
      }
    },
    {
      "cell_type": "code",
      "execution_count": 1,
      "metadata": {
        "id": "bEpJO6R2-B0f"
      },
      "outputs": [],
      "source": [
        "def print_global_align(seq1,seq2,op):\n",
        "  m = len(seq1); i = m\n",
        "  n = len(seq2); j = n\n",
        "  align1 = \"\"\n",
        "  align2 = \"\"\n",
        "\n",
        "  while i > 0 and j > 0:\n",
        "    if op[i][j] == 1:\n",
        "      align1 += seq1[i-1]\n",
        "      align2 += seq2[j-1]\n",
        "      i -= 1; j -= 1\n",
        "    elif op[i][j] == 2:\n",
        "      align1 += seq1[i-1]\n",
        "      align2 += \"-\"\n",
        "      i -= 1 \n",
        "    elif op[i][j] == 3:\n",
        "      align1 += \"-\"\n",
        "      align2 += seq2[j-1]\n",
        "      j -= 1\n",
        "  \n",
        "  while i > 0:\n",
        "    align1 += seq1[i-1]\n",
        "    align2 += \"-\"\n",
        "    i -= 1\n",
        "  while j > 0:\n",
        "    align1 += \"-\"\n",
        "    align2 += seq2[j-1]\n",
        "    j -= 1\n",
        "  \n",
        "  print(align1[::-1] + \"\\n\" + align2[::-1])\n",
        "\n",
        "def needleman_wunsch(seq1,seq2,match_award=1,mismatch_pen=-1,indel_pen=-1):\n",
        "  m = len(seq1)\n",
        "  n = len(seq2)\n",
        "  dp = [[0 for _ in range(n+1)] for _ in range(m+1)]\n",
        "  op = [[0 for _ in range(n+1)] for _ in range(m+1)] # 1: diagonal, 2: right(insert), 3: down(delete)\n",
        "\n",
        "  # fill in score matrix\n",
        "  for i in range(1,m+1):\n",
        "    dp[i][0] = indel_pen * i\n",
        "  for j in range(1,n+1):\n",
        "    dp[0][j] = indel_pen * j\n",
        "  \n",
        "  for i in range(1,m+1):\n",
        "    for j in range(1,n+1):\n",
        "      insert = dp[i-1][j] + indel_pen\n",
        "      delete = dp[i][j-1] + indel_pen\n",
        "      match_mismatch = dp[i-1][j-1] + match_award if seq1[i-1] == seq2[j-1] else dp[i-1][j-1] + mismatch_pen\n",
        "      dp[i][j] = max(insert, delete, match_mismatch)\n",
        "      if insert == dp[i][j]:\n",
        "        op[i][j] = 2\n",
        "      elif delete == dp[i][j]:\n",
        "        op[i][j] = 3\n",
        "      else:\n",
        "        op[i][j] = 1\n",
        "    \n",
        "  # print optimal global alignment\n",
        "  print_global_align(seq1,seq2,op)\n",
        "  return dp, op"
      ]
    },
    {
      "cell_type": "code",
      "source": [
        "seq1 = \"ATTACA\"\n",
        "seq2 = \"ATGCT\"\n",
        "needleman_wunsch(seq1,seq2)"
      ],
      "metadata": {
        "colab": {
          "base_uri": "https://localhost:8080/"
        },
        "id": "J9TTCw8dEJr2",
        "outputId": "348c43d9-58fa-46bd-b19e-7956c5281fd5"
      },
      "execution_count": 2,
      "outputs": [
        {
          "output_type": "stream",
          "name": "stdout",
          "text": [
            "ATTACA\n",
            "ATG-CT\n"
          ]
        },
        {
          "output_type": "execute_result",
          "data": {
            "text/plain": [
              "([[0, -1, -2, -3, -4, -5],\n",
              "  [-1, 1, 0, -1, -2, -3],\n",
              "  [-2, 0, 2, 1, 0, -1],\n",
              "  [-3, -1, 1, 1, 0, 1],\n",
              "  [-4, -2, 0, 0, 0, 0],\n",
              "  [-5, -3, -1, -1, 1, 0],\n",
              "  [-6, -4, -2, -2, 0, 0]],\n",
              " [[0, 0, 0, 0, 0, 0],\n",
              "  [0, 1, 3, 3, 3, 3],\n",
              "  [0, 2, 1, 3, 3, 3],\n",
              "  [0, 2, 2, 1, 3, 1],\n",
              "  [0, 2, 2, 2, 1, 2],\n",
              "  [0, 2, 2, 2, 1, 3],\n",
              "  [0, 2, 2, 2, 2, 1]])"
            ]
          },
          "metadata": {},
          "execution_count": 2
        }
      ]
    },
    {
      "cell_type": "markdown",
      "source": [
        "# Local alignment"
      ],
      "metadata": {
        "id": "Ii_snL-P1wvh"
      }
    },
    {
      "cell_type": "code",
      "source": [
        "import numpy as np\n",
        "def print_local_align(seq1,seq2,dp,op):\n",
        "  arr = np.array(dp)\n",
        "  i,j = np.unravel_index(arr.argmax(),arr.shape)\n",
        "  align1 = \"\"\n",
        "  align2 = \"\"\n",
        "\n",
        "  while i > 0 and j > 0 and dp[i][j] != 0:\n",
        "    if op[i][j] == 1:\n",
        "      align1 += seq1[i-1]\n",
        "      align2 += seq2[j-1]\n",
        "      i -= 1; j -= 1\n",
        "    elif op[i][j] == 2:\n",
        "      align1 += seq1[i-1]\n",
        "      align2 += \"-\"\n",
        "      i -= 1 \n",
        "    elif op[i][j] == 3:\n",
        "      align1 += \"-\"\n",
        "      align2 += seq2[j-1]\n",
        "      j -= 1\n",
        "  \n",
        "  print(align1[::-1] + \"\\n\" + align2[::-1])\n",
        "\n",
        "def smitch_waterman(seq1,seq2,match_award=1,mismatch_pen=-1,indel_pen=-1):\n",
        "  m = len(seq1)\n",
        "  n = len(seq2)\n",
        "  dp = [[0 for _ in range(n+1)] for _ in range(m+1)]\n",
        "  op = [[0 for _ in range(n+1)] for _ in range(m+1)] # 1: diagonal, 2: right(insert), 3: down(delete), 4: reset(0)\n",
        "\n",
        "  # fill in score matrix\n",
        "  for i in range(1,m+1):\n",
        "    for j in range(1,n+1):\n",
        "      insert = dp[i-1][j] + indel_pen\n",
        "      delete = dp[i][j-1] + indel_pen\n",
        "      match_mismatch = dp[i-1][j-1] + match_award if seq1[i-1] == seq2[j-1] else dp[i-1][j-1] + mismatch_pen\n",
        "      dp[i][j] = max(0,insert, delete, match_mismatch)\n",
        "      if insert == dp[i][j]:\n",
        "        op[i][j] = 2\n",
        "      elif delete == dp[i][j]:\n",
        "        op[i][j] = 3\n",
        "      elif match_mismatch == dp[i][j]:\n",
        "        op[i][j] = 1\n",
        "      else:\n",
        "        op[i][j] = 4\n",
        "  \n",
        "  # print optimal local alignment\n",
        "  print_local_align(seq1,seq2,dp,op)\n",
        "  return dp, op"
      ],
      "metadata": {
        "id": "yBFpgl1jEZxE"
      },
      "execution_count": 3,
      "outputs": []
    },
    {
      "cell_type": "code",
      "source": [
        "seq1 = \"GCCGCCGTCGTTTTCAGCAGTTATGTTCAGAT\"\n",
        "seq2 = \"GCCCAGTCTATGTCAGGGGCACGAGCATGCACA\"\n",
        "dp, op = smitch_waterman(seq1,seq2)"
      ],
      "metadata": {
        "colab": {
          "base_uri": "https://localhost:8080/"
        },
        "id": "JOw2QCnEL1VV",
        "outputId": "a9aded4e-b26f-44fc-da5f-b047147847b3"
      },
      "execution_count": 4,
      "outputs": [
        {
          "output_type": "stream",
          "name": "stdout",
          "text": [
            "CAGT-TATGTTCAG\n",
            "CAGTCTATGT-CAG\n"
          ]
        }
      ]
    },
    {
      "cell_type": "markdown",
      "source": [
        "# Alignment with affine gap penalities"
      ],
      "metadata": {
        "id": "cwU_Q3Jr11r6"
      }
    },
    {
      "cell_type": "code",
      "source": [
        "def print_global_align_affine_gap_penalty(v,w,F,op):\n",
        "  m = len(v); i = m\n",
        "  n = len(w); j = n\n",
        "\n",
        "  alignv = \"\"\n",
        "  alignw = \"\"\n",
        "\n",
        "  start_level_choice = [F[0][i][j], F[1][i][j], F[2][i][j]]\n",
        "  curr_level = start_level_choice.index(max(start_level_choice))\n",
        "\n",
        "  while i > 0 and j > 0:\n",
        "    next_level = op[curr_level][i][j] \n",
        "    if curr_level == 0:\n",
        "      alignv += v[i-1]\n",
        "      alignw += \"-\"\n",
        "      i -= 1\n",
        "    elif next_level == 2:\n",
        "      alignv += \"-\"\n",
        "      alignw += w[j-1]\n",
        "      j -= 1\n",
        "    else:\n",
        "      alignv += v[i-1]\n",
        "      alignw += w[j-1]\n",
        "      i -= 1; j -= 1\n",
        "    curr_level = next_level\n",
        "  \n",
        "  while i > 0:\n",
        "    alignv += v[i-1]\n",
        "    alignw += \"-\"\n",
        "    i -= 1\n",
        "  while j > 0:\n",
        "    alignv += \"-\"\n",
        "    alignw += w[j-1]\n",
        "    j -= 1\n",
        "  \n",
        "  print(alignv[::-1] + \"\\n\" + alignw[::-1])\n",
        "\n",
        "def global_alignment_affine_gap_penalty(v,w,scoring_matrix, sigma=2, epsilon=1):\n",
        "  m = len(v)\n",
        "  n = len(w)\n",
        "  F = [[[0 for _ in range(n+1)] for _ in range(m+1)] for _ in range(3)]\n",
        "  op = [[[0 for _ in range(n+1)] for _ in range(m+1)] for _ in range(3)]\n",
        "\n",
        "  # initialise 3 level edges\n",
        "  for i in range(1, m+1):\n",
        "    F[0][i][0] = -sigma - epsilon * (i-1)\n",
        "    F[1][i][0] = -sigma - epsilon * (i-1)\n",
        "    F[2][i][0] = -sigma - epsilon * (i-1)\n",
        "  for j in range(1, n+1):\n",
        "    F[0][0][j] = -sigma - epsilon * (j-1)\n",
        "    F[1][0][j] = -sigma - epsilon * (j-1)\n",
        "    F[2][0][j] = -sigma - epsilon * (j-1)\n",
        "\n",
        "  # filling F and op for 3 levels\n",
        "  for i in range(1,m+1):\n",
        "    for j in range(1,n+1):\n",
        "      lower_scores = [F[0][i-1][j] - epsilon, F[1][i-1][j] - sigma]\n",
        "      F[0][i][j] = max(lower_scores)\n",
        "      op[0][i][j] = lower_scores.index(F[0][i][j])\n",
        "      upper_scores = [F[1][i][j-1] - sigma,F[2][i][j-1] - epsilon]\n",
        "      F[2][i][j] = max(upper_scores)\n",
        "      op[2][i][j] = upper_scores.index(F[2][i][j]) + 1\n",
        "      middle_scores = [F[0][i][j],F[1][i-1][j-1]+scoring_matrix[i][j],F[2][i][j]]\n",
        "      F[1][i][j] = max(middle_scores)\n",
        "      op[1][i][j] = middle_scores.index(F[1][i][j])\n",
        "    \n",
        "  # print optimal global alignment\n",
        "  print_global_align_affine_gap_penalty(v,w,F,op)\n",
        "  return F, op"
      ],
      "metadata": {
        "id": "10etXpIIMTIq"
      },
      "execution_count": 25,
      "outputs": []
    },
    {
      "cell_type": "code",
      "source": [
        "seq1 = \"GATCCAG\"\n",
        "seq2 = \"GACAG\"\n",
        "scoring_matrix = [[-1 for _ in range(len(seq2)+1)] for _ in range(len(seq1)+1)]\n",
        "for i in range(1,len(seq1)+1):\n",
        "  for j in range(1,len(seq2)+1):\n",
        "    if seq1[i-1] == seq2[j-1]:\n",
        "      scoring_matrix[i][j] = 1\n",
        "    else:\n",
        "      scoring_matrix[i][j] = -1\n",
        "print(scoring_matrix)\n",
        "global_alignment_affine_gap_penalty(seq1,seq2,scoring_matrix)"
      ],
      "metadata": {
        "colab": {
          "base_uri": "https://localhost:8080/"
        },
        "id": "4xuIRbFYkVxu",
        "outputId": "62e3f0de-95d5-4e1b-c3d7-2cf90c3d9c9f"
      },
      "execution_count": 26,
      "outputs": [
        {
          "output_type": "stream",
          "name": "stdout",
          "text": [
            "[[-1, -1, -1, -1, -1, -1], [-1, 1, -1, -1, -1, 1], [-1, -1, 1, -1, 1, -1], [-1, -1, -1, -1, -1, -1], [-1, -1, -1, 1, -1, -1], [-1, -1, -1, 1, -1, -1], [-1, -1, 1, -1, 1, -1], [-1, 1, -1, -1, -1, 1]]\n",
            "GATCCAG\n",
            "G--ACAG\n"
          ]
        },
        {
          "output_type": "execute_result",
          "data": {
            "text/plain": [
              "([[[0, -2, -3, -4, -5, -6],\n",
              "   [-2, -3, -4, -5, -6, -7],\n",
              "   [-3, -1, -3, -4, -5, -6],\n",
              "   [-4, -2, 0, -2, -3, -4],\n",
              "   [-5, -3, -1, -1, -3, -4],\n",
              "   [-6, -4, -2, -1, -2, -4],\n",
              "   [-7, -5, -3, -2, -2, -3],\n",
              "   [-8, -6, -4, -3, -1, -3]],\n",
              "  [[0, -2, -3, -4, -5, -6],\n",
              "   [-2, 1, -1, -2, -3, -4],\n",
              "   [-3, -1, 2, 0, -1, -2],\n",
              "   [-4, -2, 0, 1, -1, -2],\n",
              "   [-5, -3, -1, 1, 0, -2],\n",
              "   [-6, -4, -2, 0, 0, -1],\n",
              "   [-7, -5, -3, -2, 1, -1],\n",
              "   [-8, -6, -4, -3, -1, 2]],\n",
              "  [[0, -2, -3, -4, -5, -6],\n",
              "   [-2, -3, -1, -2, -3, -4],\n",
              "   [-3, -4, -3, 0, -1, -2],\n",
              "   [-4, -5, -4, -2, -1, -2],\n",
              "   [-5, -6, -5, -3, -1, -2],\n",
              "   [-6, -7, -6, -4, -2, -2],\n",
              "   [-7, -8, -7, -5, -4, -1],\n",
              "   [-8, -9, -8, -6, -5, -3]]],\n",
              " [[[0, 0, 0, 0, 0, 0],\n",
              "   [0, 0, 0, 0, 0, 0],\n",
              "   [0, 1, 1, 1, 1, 1],\n",
              "   [0, 0, 1, 1, 1, 1],\n",
              "   [0, 0, 0, 1, 1, 1],\n",
              "   [0, 0, 0, 1, 1, 1],\n",
              "   [0, 0, 0, 0, 1, 1],\n",
              "   [0, 0, 0, 0, 1, 1]],\n",
              "  [[0, 0, 0, 0, 0, 0],\n",
              "   [0, 1, 2, 2, 2, 1],\n",
              "   [0, 0, 1, 2, 1, 2],\n",
              "   [0, 0, 0, 1, 1, 1],\n",
              "   [0, 0, 0, 1, 1, 1],\n",
              "   [0, 0, 0, 1, 1, 1],\n",
              "   [0, 0, 0, 0, 1, 1],\n",
              "   [0, 0, 0, 0, 0, 1]],\n",
              "  [[0, 0, 0, 0, 0, 0],\n",
              "   [0, 2, 1, 2, 2, 2],\n",
              "   [0, 2, 1, 1, 2, 2],\n",
              "   [0, 2, 1, 1, 1, 2],\n",
              "   [0, 2, 1, 1, 1, 1],\n",
              "   [0, 2, 1, 1, 1, 1],\n",
              "   [0, 2, 1, 1, 1, 1],\n",
              "   [0, 2, 1, 1, 1, 1]]])"
            ]
          },
          "metadata": {},
          "execution_count": 26
        }
      ]
    },
    {
      "cell_type": "code",
      "source": [],
      "metadata": {
        "id": "zjNX0qXflp6-"
      },
      "execution_count": null,
      "outputs": []
    }
  ]
}