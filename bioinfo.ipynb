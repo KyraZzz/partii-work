{
  "nbformat": 4,
  "nbformat_minor": 0,
  "metadata": {
    "colab": {
      "provenance": [],
      "collapsed_sections": [
        "Q06yA-cC1sjK",
        "Ii_snL-P1wvh",
        "cwU_Q3Jr11r6",
        "lvU5gfvkXo2f",
        "phMfxi95pq7k",
        "pHK_vZlKgprr"
      ],
      "authorship_tag": "ABX9TyN95CTaZN+G+It71u1d5UpU",
      "include_colab_link": true
    },
    "kernelspec": {
      "name": "python3",
      "display_name": "Python 3"
    },
    "language_info": {
      "name": "python"
    }
  },
  "cells": [
    {
      "cell_type": "markdown",
      "metadata": {
        "id": "view-in-github",
        "colab_type": "text"
      },
      "source": [
        "<a href=\"https://colab.research.google.com/github/KyraZzz/partii-work/blob/main/bioinfo.ipynb\" target=\"_parent\"><img src=\"https://colab.research.google.com/assets/colab-badge.svg\" alt=\"Open In Colab\"/></a>"
      ]
    },
    {
      "cell_type": "markdown",
      "source": [
        "# Global alignment"
      ],
      "metadata": {
        "id": "Q06yA-cC1sjK"
      }
    },
    {
      "cell_type": "code",
      "execution_count": null,
      "metadata": {
        "id": "bEpJO6R2-B0f"
      },
      "outputs": [],
      "source": [
        "def print_global_align(seq1,seq2,op):\n",
        "  m = len(seq1); i = m\n",
        "  n = len(seq2); j = n\n",
        "  align1 = \"\"\n",
        "  align2 = \"\"\n",
        "\n",
        "  while i > 0 and j > 0:\n",
        "    if op[i][j] == 1:\n",
        "      align1 += seq1[i-1]\n",
        "      align2 += seq2[j-1]\n",
        "      i -= 1; j -= 1\n",
        "    elif op[i][j] == 2:\n",
        "      align1 += seq1[i-1]\n",
        "      align2 += \"-\"\n",
        "      i -= 1 \n",
        "    elif op[i][j] == 3:\n",
        "      align1 += \"-\"\n",
        "      align2 += seq2[j-1]\n",
        "      j -= 1\n",
        "  \n",
        "  while i > 0:\n",
        "    align1 += seq1[i-1]\n",
        "    align2 += \"-\"\n",
        "    i -= 1\n",
        "  while j > 0:\n",
        "    align1 += \"-\"\n",
        "    align2 += seq2[j-1]\n",
        "    j -= 1\n",
        "  \n",
        "  print(align1[::-1] + \"\\n\" + align2[::-1])\n",
        "\n",
        "def needleman_wunsch(seq1,seq2,match_award=1,mismatch_pen=-1,indel_pen=-1):\n",
        "  m = len(seq1)\n",
        "  n = len(seq2)\n",
        "  dp = [[0 for _ in range(n+1)] for _ in range(m+1)]\n",
        "  op = [[0 for _ in range(n+1)] for _ in range(m+1)] # 1: diagonal, 2: right(insert), 3: down(delete)\n",
        "\n",
        "  # fill in score matrix\n",
        "  for i in range(1,m+1):\n",
        "    dp[i][0] = indel_pen * i\n",
        "  for j in range(1,n+1):\n",
        "    dp[0][j] = indel_pen * j\n",
        "  \n",
        "  for i in range(1,m+1):\n",
        "    for j in range(1,n+1):\n",
        "      insert = dp[i-1][j] + indel_pen\n",
        "      delete = dp[i][j-1] + indel_pen\n",
        "      match_mismatch = dp[i-1][j-1] + match_award if seq1[i-1] == seq2[j-1] else dp[i-1][j-1] + mismatch_pen\n",
        "      dp[i][j] = max(insert, delete, match_mismatch)\n",
        "      if insert == dp[i][j]:\n",
        "        op[i][j] = 2\n",
        "      elif delete == dp[i][j]:\n",
        "        op[i][j] = 3\n",
        "      else:\n",
        "        op[i][j] = 1\n",
        "    \n",
        "  # print optimal global alignment\n",
        "  print_global_align(seq1,seq2,op)\n",
        "  return dp, op"
      ]
    },
    {
      "cell_type": "code",
      "source": [
        "seq1 = \"CGTGAA\"\n",
        "seq2 = \"GACTTAC\"\n",
        "needleman_wunsch(seq1,seq2,match_award=5,mismatch_pen=-3,indel_pen=-4)"
      ],
      "metadata": {
        "colab": {
          "base_uri": "https://localhost:8080/"
        },
        "id": "J9TTCw8dEJr2",
        "outputId": "b804145d-3568-4776-ae34-81a50f64e360"
      },
      "execution_count": null,
      "outputs": [
        {
          "output_type": "stream",
          "name": "stdout",
          "text": [
            "--CGTGAA\n",
            "GACTT-AC\n"
          ]
        },
        {
          "output_type": "execute_result",
          "data": {
            "text/plain": [
              "([[0, -4, -8, -12, -16, -20, -24, -28],\n",
              "  [-4, -3, -7, -3, -7, -11, -15, -19],\n",
              "  [-8, 1, -3, -7, -6, -10, -14, -18],\n",
              "  [-12, -3, -2, -6, -2, -1, -5, -9],\n",
              "  [-16, -7, -6, -5, -6, -5, -4, -8],\n",
              "  [-20, -11, -2, -6, -8, -9, 0, -4],\n",
              "  [-24, -15, -6, -5, -9, -11, -4, -3]],\n",
              " [[0, 0, 0, 0, 0, 0, 0, 0],\n",
              "  [0, 1, 3, 1, 3, 3, 3, 3],\n",
              "  [0, 1, 3, 2, 1, 3, 3, 3],\n",
              "  [0, 2, 1, 3, 1, 1, 3, 3],\n",
              "  [0, 2, 2, 1, 2, 2, 1, 3],\n",
              "  [0, 2, 1, 3, 1, 2, 1, 3],\n",
              "  [0, 2, 2, 1, 3, 1, 2, 1]])"
            ]
          },
          "metadata": {},
          "execution_count": 3
        }
      ]
    },
    {
      "cell_type": "markdown",
      "source": [
        "# Local alignment"
      ],
      "metadata": {
        "id": "Ii_snL-P1wvh"
      }
    },
    {
      "cell_type": "code",
      "source": [
        "import numpy as np\n",
        "def print_local_align(seq1,seq2,dp,op):\n",
        "  arr = np.array(dp)\n",
        "  i,j = np.unravel_index(arr.argmax(),arr.shape)\n",
        "  align1 = \"\"\n",
        "  align2 = \"\"\n",
        "\n",
        "  while i > 0 and j > 0 and dp[i][j] != 0:\n",
        "    if op[i][j] == 1:\n",
        "      align1 += seq1[i-1]\n",
        "      align2 += seq2[j-1]\n",
        "      i -= 1; j -= 1\n",
        "    elif op[i][j] == 2:\n",
        "      align1 += seq1[i-1]\n",
        "      align2 += \"-\"\n",
        "      i -= 1 \n",
        "    elif op[i][j] == 3:\n",
        "      align1 += \"-\"\n",
        "      align2 += seq2[j-1]\n",
        "      j -= 1\n",
        "  \n",
        "  print(align1[::-1] + \"\\n\" + align2[::-1])\n",
        "\n",
        "def smitch_waterman(seq1,seq2,match_award=1,mismatch_pen=-1,indel_pen=-1):\n",
        "  m = len(seq1)\n",
        "  n = len(seq2)\n",
        "  dp = [[0 for _ in range(n+1)] for _ in range(m+1)]\n",
        "  op = [[0 for _ in range(n+1)] for _ in range(m+1)] # 1: diagonal, 2: right(insert), 3: down(delete), 4: reset(0)\n",
        "\n",
        "  # fill in score matrix\n",
        "  for i in range(1,m+1):\n",
        "    for j in range(1,n+1):\n",
        "      insert = dp[i-1][j] + indel_pen\n",
        "      delete = dp[i][j-1] + indel_pen\n",
        "      match_mismatch = dp[i-1][j-1] + match_award if seq1[i-1] == seq2[j-1] else dp[i-1][j-1] + mismatch_pen\n",
        "      dp[i][j] = max(0,insert, delete, match_mismatch)\n",
        "      if insert == dp[i][j]:\n",
        "        op[i][j] = 2\n",
        "      elif delete == dp[i][j]:\n",
        "        op[i][j] = 3\n",
        "      elif match_mismatch == dp[i][j]:\n",
        "        op[i][j] = 1\n",
        "      else:\n",
        "        op[i][j] = 4\n",
        "  \n",
        "  # print optimal local alignment\n",
        "  print_local_align(seq1,seq2,dp,op)\n",
        "  return dp, op"
      ],
      "metadata": {
        "id": "yBFpgl1jEZxE"
      },
      "execution_count": null,
      "outputs": []
    },
    {
      "cell_type": "code",
      "source": [
        "seq1 = \"GCCGCCGTCGTTTTCAGCAGTTATGTTCAGAT\"\n",
        "seq2 = \"GCCCAGTCTATGTCAGGGGCACGAGCATGCACA\"\n",
        "dp, op = smitch_waterman(seq1,seq2)"
      ],
      "metadata": {
        "colab": {
          "base_uri": "https://localhost:8080/"
        },
        "id": "JOw2QCnEL1VV",
        "outputId": "a9aded4e-b26f-44fc-da5f-b047147847b3"
      },
      "execution_count": null,
      "outputs": [
        {
          "output_type": "stream",
          "name": "stdout",
          "text": [
            "CAGT-TATGTTCAG\n",
            "CAGTCTATGT-CAG\n"
          ]
        }
      ]
    },
    {
      "cell_type": "markdown",
      "source": [
        "# Alignment with affine gap penalities"
      ],
      "metadata": {
        "id": "cwU_Q3Jr11r6"
      }
    },
    {
      "cell_type": "code",
      "source": [
        "def print_global_align_affine_gap_penalty(v,w,F,op):\n",
        "  m = len(v); i = m\n",
        "  n = len(w); j = n\n",
        "\n",
        "  alignv = \"\"\n",
        "  alignw = \"\"\n",
        "\n",
        "  start_level_choice = [F[0][i][j], F[1][i][j], F[2][i][j]]\n",
        "  curr_level = start_level_choice.index(max(start_level_choice))\n",
        "\n",
        "  while i > 0 and j > 0:\n",
        "    next_level = op[curr_level][i][j] \n",
        "    if curr_level == 0:\n",
        "      alignv += v[i-1]\n",
        "      alignw += \"-\"\n",
        "      i -= 1\n",
        "    elif curr_level == 2:\n",
        "      alignv += \"-\"\n",
        "      alignw += w[j-1]\n",
        "      j -= 1\n",
        "    elif curr_level == 1 and next_level == 1:\n",
        "        alignv += v[i-1]\n",
        "        alignw += w[j-1]\n",
        "        i -= 1; j -= 1\n",
        "    curr_level = next_level\n",
        "  \n",
        "  while i > 0:\n",
        "    alignv += v[i-1]\n",
        "    alignw += \"-\"\n",
        "    i -= 1\n",
        "  while j > 0:\n",
        "    alignv += \"-\"\n",
        "    alignw += w[j-1]\n",
        "    j -= 1\n",
        "  \n",
        "  print(alignv[::-1] + \"\\n\" + alignw[::-1])\n",
        "\n",
        "def global_alignment_affine_gap_penalty(v,w,scoring_matrix, sigma=2, epsilon=1):\n",
        "  m = len(v)\n",
        "  n = len(w)\n",
        "  F = [[[0 for _ in range(n+1)] for _ in range(m+1)] for _ in range(3)]\n",
        "  op = [[[k for _ in range(n+1)] for _ in range(m+1)] for k in range(3)]\n",
        "\n",
        "  # initialise 3 level edges\n",
        "  for i in range(1, m+1):\n",
        "    F[0][i][0] = -sigma - epsilon * (i-1)\n",
        "    F[1][i][0] = -sigma - epsilon * (i-1)\n",
        "    F[2][i][0] = -sigma - epsilon * (i-1)\n",
        "  for j in range(1, n+1):\n",
        "    F[0][0][j] = -sigma - epsilon * (j-1)\n",
        "    F[1][0][j] = -sigma - epsilon * (j-1)\n",
        "    F[2][0][j] = -sigma - epsilon * (j-1)\n",
        "\n",
        "  # filling F and op for 3 levels\n",
        "  for i in range(1,m+1):\n",
        "    for j in range(1,n+1):\n",
        "      lower_scores = [F[0][i-1][j] - epsilon, F[1][i-1][j] - sigma]\n",
        "      F[0][i][j] = max(lower_scores)\n",
        "      op[0][i][j] = lower_scores.index(F[0][i][j])\n",
        "      upper_scores = [F[1][i][j-1] - sigma,F[2][i][j-1] - epsilon]\n",
        "      F[2][i][j] = max(upper_scores)\n",
        "      op[2][i][j] = upper_scores.index(F[2][i][j]) + 1\n",
        "      middle_scores = [F[0][i][j],F[1][i-1][j-1]+scoring_matrix[i][j],F[2][i][j]]\n",
        "      F[1][i][j] = max(middle_scores)\n",
        "      op[1][i][j] = middle_scores.index(F[1][i][j])\n",
        "    \n",
        "  # print optimal global alignment\n",
        "  print_global_align_affine_gap_penalty(v,w,F,op)\n",
        "  return F, op"
      ],
      "metadata": {
        "id": "10etXpIIMTIq"
      },
      "execution_count": null,
      "outputs": []
    },
    {
      "cell_type": "code",
      "source": [
        "seq1 = \"GATCCAG\"\n",
        "seq2 = \"GACAG\"\n",
        "scoring_matrix = [[-1 for _ in range(len(seq2)+1)] for _ in range(len(seq1)+1)]\n",
        "for i in range(1,len(seq1)+1):\n",
        "  for j in range(1,len(seq2)+1):\n",
        "    if seq1[i-1] == seq2[j-1]:\n",
        "      scoring_matrix[i][j] = 1\n",
        "    else:\n",
        "      scoring_matrix[i][j] = -1\n",
        "F, op = global_alignment_affine_gap_penalty(seq1,seq2,scoring_matrix)"
      ],
      "metadata": {
        "colab": {
          "base_uri": "https://localhost:8080/"
        },
        "id": "4xuIRbFYkVxu",
        "outputId": "6b2630ed-14e0-4d04-c65d-8f3adc68968d"
      },
      "execution_count": null,
      "outputs": [
        {
          "output_type": "stream",
          "name": "stdout",
          "text": [
            "GATCCAG\n",
            "GA--CAG\n"
          ]
        }
      ]
    },
    {
      "cell_type": "markdown",
      "source": [
        "# Compute alignment score with linear memory"
      ],
      "metadata": {
        "id": "lvU5gfvkXo2f"
      }
    },
    {
      "cell_type": "code",
      "source": [
        "def global_alignscore_linear_space(seq1,seq2,match_award=1,mismatch_pen=-1,indel_pen=-1):\n",
        "  m = len(seq1)\n",
        "  n = len(seq2)\n",
        "  dp_prev = [0 for _ in range(n+1)]\n",
        "  dp_curr = [0 for _ in range(n+1)]\n",
        "  # fill in score matrix\n",
        "  for i in range(1,n+1):\n",
        "    dp_prev[i] = indel_pen * i\n",
        "  \n",
        "  for i in range(1,m+1):\n",
        "    dp_curr[0] = indel_pen * i\n",
        "    for j in range(1,n+1):\n",
        "      insert = dp_prev[j] + indel_pen\n",
        "      delete = dp_curr[j-1] + indel_pen\n",
        "      match_mismatch = dp_prev[j-1] + match_award if seq1[i-1] == seq2[j-1] else dp_prev[j-1] + mismatch_pen\n",
        "      dp_curr[j] = max(insert, delete, match_mismatch)\n",
        "    dp_prev = [i for i in dp_curr]\n",
        "    \n",
        "  return dp_curr"
      ],
      "metadata": {
        "id": "zjNX0qXflp6-"
      },
      "execution_count": null,
      "outputs": []
    },
    {
      "cell_type": "code",
      "source": [
        "seq1 = \"CGTGAA\"\n",
        "seq2 = \"GACTTAC\"\n",
        "global_alignscore_linear_space(seq1, seq2, match_award=5,mismatch_pen=-3,indel_pen=-4)"
      ],
      "metadata": {
        "colab": {
          "base_uri": "https://localhost:8080/"
        },
        "id": "UYyMVXQTaB_w",
        "outputId": "15f6e9fa-e7c0-422e-e15e-ea579074bea9"
      },
      "execution_count": null,
      "outputs": [
        {
          "output_type": "execute_result",
          "data": {
            "text/plain": [
              "[-24, -15, -6, -5, -9, -11, -4, -3]"
            ]
          },
          "metadata": {},
          "execution_count": 6
        }
      ]
    },
    {
      "cell_type": "markdown",
      "source": [
        "# Middle edge problem"
      ],
      "metadata": {
        "id": "phMfxi95pq7k"
      }
    },
    {
      "cell_type": "code",
      "source": [
        "midEdgeMap = {0: ➡️, 1: ⬇️, 2: ↘️}\n",
        "scoring_matrix\n",
        "def middleNode():\n",
        "  \n",
        "def middleEdge(top, bottom, left, right):\n",
        "  \"\"\"\n",
        "  Returns the middle edge in the alignment graph\n",
        "  \"\"\"\n",
        "  # prefix(i)\n",
        "  prefix = middleNode()\n",
        "def linearSpaceAlignment(top, bottom, left, right):\n",
        "  if left == right: return [alignment formed by bottom-top vertical edges]\n",
        "  if top == bottom: return [alignment formed by right-left horicontal edges]\n",
        "  middle = int((left + right) / 2)\n",
        "  midNode = middleNode(top, bottom, left, right)\n",
        "  midEdge = middleEdge(top, bottom, left, right)\n",
        "  linearSpaceAlignment(top, midNode, left, middle)\n",
        "  print(midEdgeMap[midEdge])\n",
        "  if midEdge == 0 or midEdge == 2:\n",
        "    middle += 1\n",
        "  elif midEdge == 1 or midEdge == 2:\n",
        "    midNode += 1\n",
        "  linearSpaceAlignment(midNode, bottom, middle, right)"
      ],
      "metadata": {
        "id": "bnTVKlRBaKSB"
      },
      "execution_count": null,
      "outputs": []
    },
    {
      "cell_type": "markdown",
      "source": [
        "# UPGMA"
      ],
      "metadata": {
        "id": "pHK_vZlKgprr"
      }
    },
    {
      "cell_type": "code",
      "source": [
        "import numpy as np"
      ],
      "metadata": {
        "id": "gCg2yJiQhP7F"
      },
      "execution_count": null,
      "outputs": []
    },
    {
      "cell_type": "code",
      "source": [
        "class Node:\n",
        "  def __init__(self, val, lc = None, rc = None, dist_map = None):\n",
        "    self.val = val\n",
        "    self.lc = lc\n",
        "    self.rc = rc\n",
        "    self.distance = dist_map\n",
        "  \n",
        "  def add_distances(self, dist_map):\n",
        "    self.distance = dist_map"
      ],
      "metadata": {
        "id": "TGp-QL-rgrMd"
      },
      "execution_count": null,
      "outputs": []
    },
    {
      "cell_type": "code",
      "source": [
        "def UPGMA(clusters):\n",
        "  root = None\n",
        "  while len(clusters) > 1:\n",
        "    print(f\"current clusters: {[k.val for k in clusters]}\")\n",
        "    nodemap = {k.val:k for k in clusters}\n",
        "    minDist = 1e32\n",
        "    minPair1 = None\n",
        "    minPair2 = None\n",
        "    for i in clusters:\n",
        "      if min(i.distance.values()) < minDist:\n",
        "        minPair1 = i\n",
        "        minPair2 = min(i.distance, key=i.distance.get)\n",
        "        minDist = min(i.distance.values())\n",
        "    print(f\"merge two clusters: {minPair1.val} and {minPair2.val}\")\n",
        "    clusters.remove(nodemap[minPair1.val])\n",
        "    clusters.remove(nodemap[minPair2.val])\n",
        "    intnodes = set(minPair1.distance.keys()).intersection(set(minPair2.distance.keys()))\n",
        "    root = Node(f\"({minPair1.val},{minPair2.val})\", minPair1, minPair2)\n",
        "    newmap = {}\n",
        "    for n in intnodes:\n",
        "      avgdist = (minPair1.distance[n] + minPair2.distance[n]) / 2\n",
        "      newmap[n] = avgdist\n",
        "      del n.distance[minPair1]\n",
        "      del n.distance[minPair2]\n",
        "      n.distance[root] = avgdist\n",
        "    root.add_distances(newmap)\n",
        "    clusters.append(root)\n",
        "      \n",
        "  return root"
      ],
      "metadata": {
        "id": "bkbJtqt4hGhs"
      },
      "execution_count": null,
      "outputs": []
    },
    {
      "cell_type": "code",
      "source": [
        "A = Node('A')\n",
        "B = Node('B')\n",
        "C = Node('C')\n",
        "D = Node('D')\n",
        "A.add_distances({B: 2, C: 4, D: 6})\n",
        "B.add_distances({C: 2, C: 4, D: 6})\n",
        "C.add_distances({A: 4, B: 4, D: 6})\n",
        "D.add_distances({A: 6, B: 6, C: 6})\n",
        "clusters = [A, B, C, D]\n",
        "root = UPGMA(clusters)\n",
        "print(root.val)"
      ],
      "metadata": {
        "colab": {
          "base_uri": "https://localhost:8080/"
        },
        "id": "kEV4V5UdkJr9",
        "outputId": "76e09797-bc9a-4cbb-9fa0-82b0448c4a70"
      },
      "execution_count": null,
      "outputs": [
        {
          "output_type": "stream",
          "name": "stdout",
          "text": [
            "current clusters: ['A', 'B', 'C', 'D']\n",
            "merge two clusters: A and B\n",
            "current clusters: ['C', 'D', '(A,B)']\n",
            "merge two clusters: C and (A,B)\n",
            "current clusters: ['D', '(C,(A,B))']\n",
            "merge two clusters: D and (C,(A,B))\n",
            "(D,(C,(A,B)))\n"
          ]
        }
      ]
    },
    {
      "cell_type": "markdown",
      "source": [
        "# Lloyd's algorithm"
      ],
      "metadata": {
        "id": "UKHPEmv1M8I8"
      }
    },
    {
      "cell_type": "code",
      "source": [
        "import numpy as np\n",
        "import random"
      ],
      "metadata": {
        "id": "NFhAru65QDa8"
      },
      "execution_count": 1,
      "outputs": []
    },
    {
      "cell_type": "code",
      "source": [
        "import matplotlib.pyplot as plt"
      ],
      "metadata": {
        "id": "B_7xiR-RQmI3"
      },
      "execution_count": null,
      "outputs": []
    },
    {
      "cell_type": "code",
      "source": [
        "def lloyd_clustering(points, k = 4):\n",
        "  centers = points[np.random.randint(0, len(points), size=k)]\n",
        "  assign = None\n",
        "  while True:\n",
        "    assign = {i:[] for i in range(k)}\n",
        "    # centres to clusters\n",
        "    for x,y in points:\n",
        "      mindis = 1e32\n",
        "      cluster = 0\n",
        "      for idx, val in enumerate(centers):\n",
        "        cx, cy = val[0], val[1]\n",
        "        diff = np.sqrt(np.power(x - cx, 2) + np.power(y - cy, 2))\n",
        "        if mindis > diff:\n",
        "          mindis = diff\n",
        "          cluster = idx\n",
        "      assign[cluster].append([x,y])\n",
        "    # clusters to centers\n",
        "    new_centers = centers\n",
        "    for k,v in assign.items():\n",
        "      v = np.array(v)\n",
        "      new_centers[k] = [v[:, 0].mean(), v[:, 1].mean()]\n",
        "    if (new_centers == centers).all():\n",
        "      break\n",
        "  return centers, assign"
      ],
      "metadata": {
        "id": "RiQsos8pNCOl"
      },
      "execution_count": null,
      "outputs": []
    },
    {
      "cell_type": "code",
      "source": [
        "n = 50\n",
        "points = []\n",
        "centers = [(0,0), (0,5), (5,0), (5,5)]\n",
        "for c in centers:\n",
        "  points += [(random.uniform(-2,2) + c[0], random.uniform(-2,2) + c[1]) for _ in range(max(0, n + random.randint(-5,5)))]\n",
        "points = np.array(points)\n",
        "k = 4\n",
        "centers, assign = lloyd_clustering(points, k)\n",
        "\n",
        "fig,ax = plt.subplots(figsize=(8,6))\n",
        "for k, v in assign.items():\n",
        "  v = np.array(v)\n",
        "  ax.scatter(v[:,0], v[:,1], label=k)\n",
        "  ax.scatter(centers[k,0], centers[k, 1], marker='+', label=k)\n",
        "plt.legend()\n",
        "plt.show()"
      ],
      "metadata": {
        "colab": {
          "base_uri": "https://localhost:8080/",
          "height": 374
        },
        "id": "yXgQzFnCP3P4",
        "outputId": "43d0ff1b-9533-4d7e-dc8f-2e29c0e8e8d1"
      },
      "execution_count": null,
      "outputs": [
        {
          "output_type": "display_data",
          "data": {
            "text/plain": [
              "<Figure size 576x432 with 1 Axes>"
            ],
            "image/png": "[encoded data removed]"
          },
          "metadata": {
            "needs_background": "light"
          }
        }
      ]
    },
    {
      "cell_type": "markdown",
      "source": [
        "# BWT"
      ],
      "metadata": {
        "id": "RNH6ik0ggQGT"
      }
    },
    {
      "cell_type": "code",
      "source": [],
      "metadata": {
        "id": "YScUWOs2gRlK"
      },
      "execution_count": null,
      "outputs": []
    },
    {
      "cell_type": "markdown",
      "source": [
        "# HMM"
      ],
      "metadata": {
        "id": "pAhXommLJeAp"
      }
    },
    {
      "cell_type": "code",
      "source": [
        "class HMM:\n",
        "  def __init__(self, alphabet, hidden_states, emit_string, init_prob, transition, emission):\n",
        "    self.alphabet = alphabet\n",
        "    self.hidden_states = hidden_states\n",
        "    self.hidden_path = None\n",
        "    self.emit_string = emit_string\n",
        "    self.init_prob = init_prob\n",
        "    self.transition = transition\n",
        "    self.emission = emission\n",
        "\n",
        "  def evaluate(self, emit_string = None):\n",
        "    if emit_string is not None:\n",
        "      self.emit_string = emit_string\n",
        "    forward_prob = [p * self.emission[i][self.emit_string[0]] for i, p in enumerate(self.init_prob)]\n",
        "    for t, x in enumerate(self.emit_string[1:]):\n",
        "      new_prob = [0 for _ in self.hidden_states]\n",
        "      for j in self.hidden_states:\n",
        "        prob = 0\n",
        "        for i in self.hidden_states:\n",
        "          prob += forward_prob[i] * self.transition[i][j]\n",
        "        prob *= self.emission[j][x]\n",
        "        new_prob[j] = prob\n",
        "      print(f\"forward_prob: {forward_prob}\")\n",
        "      forward_prob = new_prob\n",
        "    return np.array(forward_prob).sum()\n",
        "  \n",
        "  def decode(self, emit_string = None):\n",
        "    if emit_string is not None:\n",
        "      self.emit_string = emit_string\n",
        "    V = [[0] * len(self.emit_string) for _ in self.hidden_states]\n",
        "    psi = [[-1] * len(self.emit_string) for _ in self.hidden_states]\n",
        "    for i in self.hidden_states:\n",
        "      V[i][0] = self.init_prob[i] * self.emission[i][self.emit_string[0]]\n",
        "\n",
        "    # fill stage\n",
        "    for t, x in enumerate(self.emit_string):\n",
        "      if t == 0: continue\n",
        "      for j in self.hidden_states:\n",
        "        maxprob = 0\n",
        "        opt_psi = -1\n",
        "        for i in self.hidden_states:\n",
        "          prob = V[i][t-1] * self.transition[i][j]\n",
        "          if prob > maxprob:\n",
        "            maxprob = prob\n",
        "            opt_psi = i\n",
        "        V[j][t] = maxprob * self.emission[j][x]\n",
        "        psi[j][t] = opt_psi\n",
        "\n",
        "    # backtrack stage\n",
        "    opt_s = np.argmax(np.array(V[:][-1]))\n",
        "    hidden_path = [opt_s]\n",
        "    for t in range(len(self.emit_string)-1, 1, -1):\n",
        "      opt_s = psi[opt_s][t]\n",
        "      hidden_path.append(opt_s)\n",
        "    return hidden_path[::-1], V"
      ],
      "metadata": {
        "id": "9Ykdg4WFgzYJ"
      },
      "execution_count": 144,
      "outputs": []
    },
    {
      "cell_type": "code",
      "source": [
        "\"\"\"\n",
        "alphabet: [A, T, C, G], simplify as [0, 1, 2, 3]\n",
        "hidden states: [x, y, z], simplify as [0, 1, 2]\n",
        "\"\"\"\n",
        "alphabet = [0, 1, 2, 3]\n",
        "alphabet_map = {\"A\":0, \"T\":1, \"C\":2, \"G\":3}\n",
        "hidden_states = [0, 1, 2]\n",
        "hidden_states_map = {0:\"x\", 1:\"y\", 2:\"z\"}\n",
        "ori_string = \"CCGAAGTG\"\n",
        "emit_string = [alphabet_map[c] for c in ori_string]\n",
        "init_prob = [0.3, 0.3, 0.4]\n",
        "transition = [\n",
        "    [0.2, 0.4, 0.4],\n",
        "    [0.1, 0.6, 0.3],\n",
        "    [0.8, 0.1, 0.1]\n",
        "]\n",
        "emission = [\n",
        "    [0.7, 0.1, 0.1, 0.1],\n",
        "    [0.3, 0.2, 0.4, 0.1],\n",
        "    [0.4, 0.2, 0.2, 0.2]\n",
        "]\n",
        "print(f\"emit_string: {emit_string}\")"
      ],
      "metadata": {
        "colab": {
          "base_uri": "https://localhost:8080/"
        },
        "id": "DiX4_znRSgMz",
        "outputId": "bd4b69f6-f556-4818-9d51-6024395b893b"
      },
      "execution_count": 145,
      "outputs": [
        {
          "output_type": "stream",
          "name": "stdout",
          "text": [
            "emit_string: [2, 2, 3, 0, 0, 3, 1, 3]\n"
          ]
        }
      ]
    },
    {
      "cell_type": "code",
      "source": [
        "m = HMM(alphabet, hidden_states, emit_string, init_prob, transition, emission)"
      ],
      "metadata": {
        "id": "leQunCm9T6D9"
      },
      "execution_count": 146,
      "outputs": []
    },
    {
      "cell_type": "code",
      "source": [
        "m.evaluate()"
      ],
      "metadata": {
        "colab": {
          "base_uri": "https://localhost:8080/"
        },
        "id": "Dtd4x3P4UG0e",
        "outputId": "37a319b0-862b-48e7-af12-f7d2134eb20b"
      },
      "execution_count": 147,
      "outputs": [
        {
          "output_type": "stream",
          "name": "stdout",
          "text": [
            "forward_prob: [0.03, 0.12, 0.08000000000000002]\n",
            "forward_prob: [0.008200000000000002, 0.0368, 0.011200000000000002]\n",
            "forward_prob: [0.0014280000000000002, 0.002648, 0.0030880000000000005]\n",
            "forward_prob: [0.00211456, 0.00074064, 0.0006697600000000001]\n",
            "forward_prob: [0.0007229488, 0.00040715520000000004, 0.00045399680000000013]\n",
            "forward_prob: [5.4850272000000016e-05, 5.7887232000000005e-05, 9.134515200000002e-05]\n",
            "forward_prob: [8.983489920000002e-06, 1.3161392640000003e-05, 9.688158720000004e-06]\n"
          ]
        },
        {
          "output_type": "execute_result",
          "data": {
            "text/plain": [
              "4.0343670912000014e-06"
            ]
          },
          "metadata": {},
          "execution_count": 147
        }
      ]
    },
    {
      "cell_type": "code",
      "source": [
        "res, V = m.decode()\n",
        "[hidden_states_map[i] for i in res]"
      ],
      "metadata": {
        "colab": {
          "base_uri": "https://localhost:8080/"
        },
        "id": "E-J0UAkVUKBa",
        "outputId": "4748e363-b689-4144-a6b6-19f692b9abab"
      },
      "execution_count": 148,
      "outputs": [
        {
          "output_type": "execute_result",
          "data": {
            "text/plain": [
              "['y', 'z', 'x', 'z', 'x', 'z', 'x']"
            ]
          },
          "metadata": {},
          "execution_count": 148
        }
      ]
    },
    {
      "cell_type": "code",
      "source": [
        "V[0][3]"
      ],
      "metadata": {
        "colab": {
          "base_uri": "https://localhost:8080/"
        },
        "id": "GciCZp3wZ5vV",
        "outputId": "90a473a6-d845-4c7d-bf65-f9c9df64b194"
      },
      "execution_count": 150,
      "outputs": [
        {
          "output_type": "execute_result",
          "data": {
            "text/plain": [
              "0.0009676800000000001"
            ]
          },
          "metadata": {},
          "execution_count": 150
        }
      ]
    },
    {
      "cell_type": "code",
      "source": [],
      "metadata": {
        "id": "LG6S3NJzeLiC"
      },
      "execution_count": null,
      "outputs": []
    }
  ]
}